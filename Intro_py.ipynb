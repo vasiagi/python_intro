{
  "nbformat": 4,
  "nbformat_minor": 0,
  "metadata": {
    "colab": {
      "name": "Intro_py.ipynb",
      "provenance": [],
      "authorship_tag": "ABX9TyNXOzLkphwg8oc5bXsfY7+w",
      "include_colab_link": true
    },
    "kernelspec": {
      "name": "python3",
      "display_name": "Python 3"
    },
    "language_info": {
      "name": "python"
    }
  },
  "cells": [
    {
      "cell_type": "markdown",
      "metadata": {
        "id": "view-in-github",
        "colab_type": "text"
      },
      "source": [
        "<a href=\"https://colab.research.google.com/github/vasiagi/python_intro/blob/main/Intro_py.ipynb\" target=\"_parent\"><img src=\"https://colab.research.google.com/assets/colab-badge.svg\" alt=\"Open In Colab\"/></a>"
      ]
    },
    {
      "cell_type": "code",
      "metadata": {
        "colab": {
          "base_uri": "https://localhost:8080/"
        },
        "id": "TEZTVGhdtlBC",
        "outputId": "66989caa-1ce9-4bdf-bf3b-008d06839632"
      },
      "source": [
        "#Enter first and last name\n",
        "names = input(\"Viv Asiagi\")\n",
        "print(names)\n",
        "print()\n",
        "\n",
        "#Enter your goals for this class\n",
        "print(\"To get proficient and advanced in python skills\")\n",
        "goals = input('To become a software engineer')\n",
        "print(goals)"
      ],
      "execution_count": 1,
      "outputs": [
        {
          "output_type": "stream",
          "text": [
            "Viv Asiagi\n",
            "\n",
            "\n",
            "To get proficient and advanced in python skills\n",
            "To become a software engineer\n",
            "\n"
          ],
          "name": "stdout"
        }
      ]
    }
  ]
}