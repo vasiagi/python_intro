{
  "nbformat": 4,
  "nbformat_minor": 0,
  "metadata": {
    "colab": {
      "name": "Intro_py.ipynb",
      "provenance": [],
      "toc_visible": true,
      "authorship_tag": "ABX9TyN+b/4VpWIAMvSSIXWyeF2L",
      "include_colab_link": true
    },
    "kernelspec": {
      "name": "python3",
      "display_name": "Python 3"
    },
    "language_info": {
      "name": "python"
    }
  },
  "cells": [
    {
      "cell_type": "markdown",
      "metadata": {
        "id": "view-in-github",
        "colab_type": "text"
      },
      "source": [
        "<a href=\"https://colab.research.google.com/github/vasiagi/python_intro/blob/main/Intro_py.ipynb\" target=\"_parent\"><img src=\"https://colab.research.google.com/assets/colab-badge.svg\" alt=\"Open In Colab\"/></a>"
      ]
    },
    {
      "cell_type": "code",
      "metadata": {
        "id": "TEZTVGhdtlBC"
      },
      "source": [
        "#Enter first and last name\n",
        "names = input(\"Viv Asiagi\")\n",
        "print(names)\n",
        "print()\n",
        "\n",
        "#Enter your goals for this class\n",
        "print(\"To get proficient and advanced in python skills\")\n",
        "goals = input('To become a software engineer')\n",
        "print(goals)"
      ],
      "execution_count": null,
      "outputs": []
    },
    {
      "cell_type": "code",
      "metadata": {
        "colab": {
          "base_uri": "https://localhost:8080/"
        },
        "id": "3WUzmVg5zmgQ",
        "outputId": "202193c0-469d-4117-e975-4a87f7d63ba6"
      },
      "source": [
        "firstname = input(\"Viv\")\n",
        "lastname = input(\"Asiagi\")\n",
        "Country = input(\"USA\")\n",
        "Profession = input(\"Software Developer\")\n",
        "Email = input(\"cba321@viv.com\")\n",
        "Phone = input(\"1234456789\")\n",
        "City = input(\"Dallas\")\n",
        "Address = input(\"550 E.Main St\")\n",
        "\n",
        "Name = (firstname + \" \" + lastname)\n",
        "print(Name)\n",
        "print(Country)\n",
        "print(Profession)\n",
        "print(Email)\n",
        "print(Phone)\n",
        "print(City)\n",
        "print(Address)\n",
        "\n",
        "\n"
      ],
      "execution_count": 2,
      "outputs": [
        {
          "output_type": "stream",
          "text": [
            "Viv\n",
            "Asiagi\n",
            "USA\n",
            "Software Developer\n",
            "cba321@viv.com\n",
            "1234456789\n",
            "Dallas\n",
            "550 E.Main St\n",
            " \n",
            "\n",
            "\n",
            "\n",
            "\n",
            "\n",
            "\n"
          ],
          "name": "stdout"
        }
      ]
    }
  ]
}