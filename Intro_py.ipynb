{
  "nbformat": 4,
  "nbformat_minor": 0,
  "metadata": {
    "colab": {
      "name": "Intro_py.ipynb",
      "provenance": [],
      "toc_visible": true,
      "authorship_tag": "ABX9TyNXOzLkphwg8oc5bXsfY7+w",
      "include_colab_link": true
    },
    "kernelspec": {
      "name": "python3",
      "display_name": "Python 3"
    },
    "language_info": {
      "name": "python"
    }
  },
  "cells": [
    {
      "cell_type": "markdown",
      "metadata": {
        "id": "view-in-github",
        "colab_type": "text"
      },
      "source": [
        "<a href=\"https://colab.research.google.com/github/vasiagi/python_intro/blob/main/Intro_py.ipynb\" target=\"_parent\"><img src=\"https://colab.research.google.com/assets/colab-badge.svg\" alt=\"Open In Colab\"/></a>"
      ]
    },
    {
      "cell_type": "code",
      "metadata": {
        "colab": {
          "base_uri": "https://localhost:8080/"
        },
        "id": "TEZTVGhdtlBC",
        "outputId": "f2704812-0d59-401e-8dfe-56d7197791de"
      },
      "source": [
        "#Enter first and last name\n",
        "names = input(\"Viv Asiagi\")\n",
        "print(names)\n",
        "print()\n",
        "\n",
        "#Enter your goals for this class\n",
        "print(\"To get proficient and advanced in python skills\")\n",
        "goals = input('To become a software engineer')\n",
        "print(goals)"
      ],
      "execution_count": 3,
      "outputs": [
        {
          "output_type": "stream",
          "text": [
            "Viv Asiagi\n",
            "\n",
            "\n",
            "To get proficient and advanced in python skills\n",
            "To become a software engineer\n",
            "\n"
          ],
          "name": "stdout"
        }
      ]
    }
  ]
}