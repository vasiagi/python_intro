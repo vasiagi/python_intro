{
  "nbformat": 4,
  "nbformat_minor": 0,
  "metadata": {
    "colab": {
      "name": "Py_intro2.ipynb",
      "provenance": [],
      "authorship_tag": "ABX9TyObWSKEPW4nWe2vZnJo6Woz",
      "include_colab_link": true
    },
    "kernelspec": {
      "name": "python3",
      "display_name": "Python 3"
    },
    "language_info": {
      "name": "python"
    }
  },
  "cells": [
    {
      "cell_type": "markdown",
      "metadata": {
        "id": "view-in-github",
        "colab_type": "text"
      },
      "source": [
        "<a href=\"https://colab.research.google.com/github/vasiagi/python_intro/blob/main/Py_intro2.ipynb\" target=\"_parent\"><img src=\"https://colab.research.google.com/assets/colab-badge.svg\" alt=\"Open In Colab\"/></a>"
      ]
    },
    {
      "cell_type": "code",
      "metadata": {
        "id": "eeH6-Whi-8ih"
      },
      "source": [
        ""
      ],
      "execution_count": null,
      "outputs": []
    },
    {
      "cell_type": "code",
      "metadata": {
        "colab": {
          "base_uri": "https://localhost:8080/"
        },
        "id": "cHQB48Wj8Nas",
        "outputId": "6567b50f-283d-49ba-bb68-e01db10b688f"
      },
      "source": [
        "def personal_details():\n",
        "  name = \"Viv Asiagi\"\n",
        "  country = \"USA\"\n",
        "  profession = \"Software Developer\"\n",
        "  email = \"cba321@viv.com\"\n",
        "  phone = \"+1234445555\"\n",
        "  city = \"Dallas\"\n",
        "  address = \"123 Main St\"  \n",
        "  print(\"Name: {}\\nCountry: {}\\nProfession: {}\\nEmail: {}\\nPhone: {}\\nCity: {}\\nAddress: {}\".format(name, country, profession, email, phone, city, address))\n",
        "\n",
        "personal_details()"
      ],
      "execution_count": 9,
      "outputs": [
        {
          "output_type": "stream",
          "text": [
            "Name: Viv Asiagi\n",
            "Country: USA\n",
            "Profession: Software Developer\n",
            "Email: cba321@viv.com\n",
            "Phone: +1234445555\n",
            "City: Dallas\n",
            "Address: 123 Main St\n"
          ],
          "name": "stdout"
        }
      ]
    }
  ]
}