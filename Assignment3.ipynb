{
  "nbformat": 4,
  "nbformat_minor": 0,
  "metadata": {
    "colab": {
      "name": "Assignment3.ipynb",
      "provenance": [],
      "authorship_tag": "ABX9TyNm6JOSbNwrdLfgBym7S7ue",
      "include_colab_link": true
    },
    "kernelspec": {
      "name": "python3",
      "display_name": "Python 3"
    },
    "language_info": {
      "name": "python"
    }
  },
  "cells": [
    {
      "cell_type": "markdown",
      "metadata": {
        "id": "view-in-github",
        "colab_type": "text"
      },
      "source": [
        "<a href=\"https://colab.research.google.com/github/vasiagi/python_intro/blob/main/Assignment3.ipynb\" target=\"_parent\"><img src=\"https://colab.research.google.com/assets/colab-badge.svg\" alt=\"Open In Colab\"/></a>"
      ]
    },
    {
      "cell_type": "code",
      "metadata": {
        "id": "oN5K2peuCQ-0",
        "colab": {
          "base_uri": "https://localhost:8080/"
        },
        "outputId": "06d25522-7541-4ef7-b241-fff26aef0c9e"
      },
      "source": [
        "#Enter Full Names\n",
        "print(\"Enter First and Last Name:\")\n",
        "fname = (\"Viv\") #First Name\n",
        "lname = (\"Asiagi\") #last Name\n",
        "fullnames = fname + \" \" + lname\n",
        "\n",
        "#Enter phone, email\n",
        "print(\"Enter Customer's Phone Number: \")\n",
        "phone = str(\"123-444-5566\")\n",
        "print(\"Enter Customer's email address: \")\n",
        "email = (\"customer@email.com\")\n",
        "\n",
        "#price of a used car\n",
        "price = 10000\n",
        "has_good_credit = True\n",
        "\n",
        "if has_good_credit:\n",
        "    down_payment = 0.1 * price\n",
        "else:\n",
        "    down_payment = 0.2 * price\n",
        "\n",
        "print(f\"Down Payment: {down_payment}\")\n",
        "print('')\n",
        "print(\"Full Names:\" +fullnames)\n",
        "print(\"Phone: \" + phone)\n",
        "print(\"Email: \" + email)\n",
        "print(\"Down Payment:\" + str(down_payment))"
      ],
      "execution_count": 2,
      "outputs": [
        {
          "output_type": "stream",
          "text": [
            "Enter First and Last Name:\n",
            "Enter Customer's Phone Number: \n",
            "Enter Customer's email address: \n",
            "Down Payment: 1000.0\n",
            "\n",
            "Full Names:Viv Asiagi\n",
            "Phone: 123-444-5566\n",
            "Email: customer@email.com\n",
            "Down Payment:1000.0\n"
          ],
          "name": "stdout"
        }
      ]
    }
  ]
}